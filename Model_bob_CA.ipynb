{
 "cells": [
  {
   "cell_type": "code",
   "execution_count": 13,
   "metadata": {
    "collapsed": true
   },
   "outputs": [],
   "source": [
    "import pandas as pd\n",
    "import sqlalchemy as sq\n",
    "import numpy as np\n",
    "import matplotlib.pyplot as plt\n",
    "plt.style.use('fivethirtyeight')\n",
    "%matplotlib inline"
   ]
  },
  {
   "cell_type": "markdown",
   "metadata": {},
   "source": [
    "# Connect to database"
   ]
  },
  {
   "cell_type": "code",
   "execution_count": 3,
   "metadata": {
    "collapsed": false
   },
   "outputs": [],
   "source": [
    "engine = sq.create_engine('sqlite:///OKC_Processed_DB.db') #create connection to the database"
   ]
  },
  {
   "cell_type": "markdown",
   "metadata": {},
   "source": [
    "# Get tables"
   ]
  },
  {
   "cell_type": "code",
   "execution_count": 4,
   "metadata": {
    "collapsed": true
   },
   "outputs": [],
   "source": [
    "df_num = pd.read_sql_table('numerical_attributes',engine)\n",
    "df_rsp = pd.read_sql_table('question_responses',engine)\n",
    "df_att = pd.read_sql_table('attributes_preferences',engine)\n",
    "df_tst = pd.read_sql_table('test_responses',engine)\n",
    "df_key0 = pd.read_sql_table('questions_key',engine)\n",
    "df_key = df_key0[df_key0.loc[:,'N']>=31548]"
   ]
  },
  {
   "cell_type": "markdown",
   "metadata": {},
   "source": [
    "# Helper Functions"
   ]
  },
  {
   "cell_type": "markdown",
   "metadata": {},
   "source": [
    "This function takes a dataframe and a string, and returns a new dataframe with all columns with headers that begin with that string"
   ]
  },
  {
   "cell_type": "code",
   "execution_count": 5,
   "metadata": {
    "collapsed": false
   },
   "outputs": [
    {
     "data": {
      "text/html": [
       "<div>\n",
       "<table border=\"1\" class=\"dataframe\">\n",
       "  <thead>\n",
       "    <tr style=\"text-align: right;\">\n",
       "      <th></th>\n",
       "      <th>d_income</th>\n",
       "      <th>d_age</th>\n",
       "    </tr>\n",
       "  </thead>\n",
       "  <tbody>\n",
       "    <tr>\n",
       "      <th>68366</th>\n",
       "      <td>None</td>\n",
       "      <td>48</td>\n",
       "    </tr>\n",
       "    <tr>\n",
       "      <th>68367</th>\n",
       "      <td>None</td>\n",
       "      <td>32</td>\n",
       "    </tr>\n",
       "    <tr>\n",
       "      <th>68368</th>\n",
       "      <td>None</td>\n",
       "      <td>24</td>\n",
       "    </tr>\n",
       "    <tr>\n",
       "      <th>68369</th>\n",
       "      <td>None</td>\n",
       "      <td>33</td>\n",
       "    </tr>\n",
       "    <tr>\n",
       "      <th>68370</th>\n",
       "      <td>None</td>\n",
       "      <td>49</td>\n",
       "    </tr>\n",
       "  </tbody>\n",
       "</table>\n",
       "</div>"
      ],
      "text/plain": [
       "      d_income d_age\n",
       "68366     None    48\n",
       "68367     None    32\n",
       "68368     None    24\n",
       "68369     None    33\n",
       "68370     None    49"
      ]
     },
     "execution_count": 5,
     "metadata": {},
     "output_type": "execute_result"
    }
   ],
   "source": [
    "def get_columns(df,key):\n",
    "    headers_all = list(df.columns)\n",
    "    headers = [name for name in headers_all if name[0:len(key)]==key]\n",
    "    return df.loc[:,headers]\n",
    "#Example\n",
    "get_columns(df_num,'d_').tail()"
   ]
  },
  {
   "cell_type": "markdown",
   "metadata": {},
   "source": [
    "This function takes a question key table + a question key, and return the question associated with the key"
   ]
  },
  {
   "cell_type": "code",
   "execution_count": 6,
   "metadata": {
    "collapsed": false
   },
   "outputs": [
    {
     "data": {
      "text/html": [
       "<div>\n",
       "<table border=\"1\" class=\"dataframe\">\n",
       "  <thead>\n",
       "    <tr style=\"text-align: right;\">\n",
       "      <th></th>\n",
       "      <th>Unnamed: 0</th>\n",
       "      <th>text</th>\n",
       "      <th>option_1</th>\n",
       "      <th>option_2</th>\n",
       "      <th>option_3</th>\n",
       "      <th>option_4</th>\n",
       "      <th>N</th>\n",
       "      <th>Type</th>\n",
       "      <th>Order</th>\n",
       "      <th>Keywords</th>\n",
       "    </tr>\n",
       "  </thead>\n",
       "  <tbody>\n",
       "  </tbody>\n",
       "</table>\n",
       "</div>"
      ],
      "text/plain": [
       "Empty DataFrame\n",
       "Columns: [Unnamed: 0, text, option_1, option_2, option_3, option_4, N, Type, Order, Keywords]\n",
       "Index: []"
      ]
     },
     "execution_count": 6,
     "metadata": {},
     "output_type": "execute_result"
    }
   ],
   "source": [
    "def get_question(df,key):\n",
    "    return df.loc[df.iloc[:,0]==key,:]\n",
    "#Example\n",
    "get_question(df_key,'q145537')"
   ]
  },
  {
   "cell_type": "markdown",
   "metadata": {},
   "source": [
    "This function takes a keyword and searches for questions that contain such keyword in the question text"
   ]
  },
  {
   "cell_type": "code",
   "execution_count": 12,
   "metadata": {
    "collapsed": false
   },
   "outputs": [
    {
     "name": "stderr",
     "output_type": "stream",
     "text": [
      "/Users/Bob/anaconda/lib/python3.5/site-packages/pandas/core/frame.py:2824: SettingWithCopyWarning: \n",
      "A value is trying to be set on a copy of a slice from a DataFrame\n",
      "\n",
      "See the caveats in the documentation: http://pandas.pydata.org/pandas-docs/stable/indexing.html#indexing-view-versus-copy\n",
      "  downcast=downcast, **kwargs)\n"
     ]
    },
    {
     "data": {
      "text/html": [
       "<div>\n",
       "<table border=\"1\" class=\"dataframe\">\n",
       "  <thead>\n",
       "    <tr style=\"text-align: right;\">\n",
       "      <th></th>\n",
       "      <th>Unnamed: 0</th>\n",
       "      <th>text</th>\n",
       "      <th>option_1</th>\n",
       "      <th>option_2</th>\n",
       "      <th>option_3</th>\n",
       "      <th>option_4</th>\n",
       "      <th>N</th>\n",
       "      <th>Type</th>\n",
       "      <th>Order</th>\n",
       "      <th>Keywords</th>\n",
       "    </tr>\n",
       "  </thead>\n",
       "  <tbody>\n",
       "    <tr>\n",
       "      <th>73</th>\n",
       "      <td>q212813</td>\n",
       "      <td>Which best describes your political beliefs?</td>\n",
       "      <td>Liberal / Left-wing</td>\n",
       "      <td>Centrist</td>\n",
       "      <td>Conservative / Right-wing</td>\n",
       "      <td>Other</td>\n",
       "      <td>45107</td>\n",
       "      <td>M</td>\n",
       "      <td>[4]</td>\n",
       "      <td>politics; descriptive</td>\n",
       "    </tr>\n",
       "    <tr>\n",
       "      <th>88</th>\n",
       "      <td>q14835</td>\n",
       "      <td>If you turn a left-handed glove inside out, it...</td>\n",
       "      <td>On my left hand</td>\n",
       "      <td>On my right hand</td>\n",
       "      <td>0</td>\n",
       "      <td>0</td>\n",
       "      <td>42395</td>\n",
       "      <td>O</td>\n",
       "      <td>0</td>\n",
       "      <td>cognitive</td>\n",
       "    </tr>\n",
       "  </tbody>\n",
       "</table>\n",
       "</div>"
      ],
      "text/plain": [
       "   Unnamed: 0                                               text  \\\n",
       "73    q212813       Which best describes your political beliefs?   \n",
       "88     q14835  If you turn a left-handed glove inside out, it...   \n",
       "\n",
       "               option_1          option_2                   option_3 option_4  \\\n",
       "73  Liberal / Left-wing          Centrist  Conservative / Right-wing    Other   \n",
       "88      On my left hand  On my right hand                          0        0   \n",
       "\n",
       "        N Type Order               Keywords  \n",
       "73  45107    M   [4]  politics; descriptive  \n",
       "88  42395    O     0              cognitive  "
      ]
     },
     "execution_count": 12,
     "metadata": {},
     "output_type": "execute_result"
    }
   ],
   "source": [
    "def search_questions(df,key):\n",
    "    indexlist = []\n",
    "    key = str.upper(key)\n",
    "    df.fillna(value=0,inplace=True)\n",
    "    for i in range(len(df_key.iloc[:,1])):\n",
    "        if key in str.upper(str(df_key.iloc[i,1])):\n",
    "            indexlist.append(i)\n",
    "        elif key in str.upper(str(df_key.iloc[i,2])):\n",
    "            indexlist.append(i)\n",
    "        elif key in str.upper(str(df_key.iloc[i,3])):\n",
    "            indexlist.append(i)\n",
    "        elif key in str.upper(str(df_key.iloc[i,4])):\n",
    "            indexlist.append(i)\n",
    "        elif key in str.upper(str(df_key.iloc[i,5])):\n",
    "            indexlist.append(i)\n",
    "        elif key in str.upper(str(df_key.iloc[i,6])):\n",
    "            indexlist.append(i)\n",
    "        elif key in str.upper(str(df_key.iloc[i,7])):\n",
    "            indexlist.append(i)\n",
    "        elif key in str.upper(str(df_key.iloc[i,8])):\n",
    "            indexlist.append(i)\n",
    "        elif key in str.upper(str(df_key.iloc[i,9])):\n",
    "            indexlist.append(i)\n",
    "    return df_key.iloc[indexlist,:]\n",
    "#Example\n",
    "search_questions(df_key,'left')"
   ]
  },
  {
   "cell_type": "markdown",
   "metadata": {},
   "source": [
    "# Modelling"
   ]
  },
  {
   "cell_type": "markdown",
   "metadata": {},
   "source": [
    "Make a giant-ass matrix with y as column1 and features as rest of the columns"
   ]
  },
  {
   "cell_type": "code",
   "execution_count": 23,
   "metadata": {
    "collapsed": false
   },
   "outputs": [],
   "source": [
    "df_all = pd.concat([pd.to_numeric(df_num.CA),df_rsp,df_att],axis=1)\n",
    "df_all = df_all[pd.notnull(df_all['CA'])]\n",
    "df_all.fillna(value=0,inplace=True)"
   ]
  },
  {
   "cell_type": "code",
   "execution_count": 26,
   "metadata": {
    "collapsed": false
   },
   "outputs": [
    {
     "data": {
      "text/plain": [
       "(array([    34.,    316.,   2537.,   4076.,   8135.,   9871.,  12340.,\n",
       "         10481.,   7253.,   1555.]),\n",
       " array([-3.58702023, -3.0038059 , -2.42059157, -1.83737724, -1.25416291,\n",
       "        -0.67094858, -0.08773425,  0.49548008,  1.07869441,  1.66190874,\n",
       "         2.24512307]),\n",
       " <a list of 10 Patch objects>)"
      ]
     },
     "execution_count": 26,
     "metadata": {},
     "output_type": "execute_result"
    },
    {
     "data": {
      "image/png": "[encoded data removed]",
      "text/plain": [
       "<matplotlib.figure.Figure at 0x117c4bf98>"
      ]
     },
     "metadata": {},
     "output_type": "display_data"
    }
   ],
   "source": [
    "plt.hist(df_all.CA)"
   ]
  },
  {
   "cell_type": "code",
   "execution_count": 31,
   "metadata": {
    "collapsed": false
   },
   "outputs": [],
   "source": [
    "bins = [-10, -1.5, -0.5, 0.5, 1.5, 10]\n",
    "groups = ['supa dum', 'dum', 'meh', 'smaht', 'supa smaht']\n",
    "y = pd.cut(df_all['CA'], bins, labels=groups)\n",
    "X = df_all.iloc[:,1:]"
   ]
  },
  {
   "cell_type": "code",
   "execution_count": 32,
   "metadata": {
    "collapsed": false
   },
   "outputs": [],
   "source": [
    "from sklearn.linear_model import LogisticRegression\n",
    "from sklearn.cross_validation import train_test_split\n",
    "X_train, X_test, y_train, y_test = train_test_split(X,y)\n",
    "model = LogisticRegression()\n",
    "fit = model.fit(X_train,y_train)"
   ]
  },
  {
   "cell_type": "code",
   "execution_count": 33,
   "metadata": {
    "collapsed": false
   },
   "outputs": [
    {
     "data": {
      "text/plain": [
       "0.46819787985865724"
      ]
     },
     "execution_count": 33,
     "metadata": {},
     "output_type": "execute_result"
    }
   ],
   "source": [
    "from sklearn.metrics import accuracy_score\n",
    "y_pred = fit.predict(X_test)\n",
    "accuracy_score(y_pred,y_test)"
   ]
  },
  {
   "cell_type": "code",
   "execution_count": null,
   "metadata": {
    "collapsed": true
   },
   "outputs": [],
   "source": []
  },
  {
   "cell_type": "code",
   "execution_count": null,
   "metadata": {
    "collapsed": true
   },
   "outputs": [],
   "source": []
  },
  {
   "cell_type": "code",
   "execution_count": null,
   "metadata": {
    "collapsed": true
   },
   "outputs": [],
   "source": []
  },
  {
   "cell_type": "code",
   "execution_count": null,
   "metadata": {
    "collapsed": true
   },
   "outputs": [],
   "source": []
  },
  {
   "cell_type": "code",
   "execution_count": null,
   "metadata": {
    "collapsed": true
   },
   "outputs": [],
   "source": []
  },
  {
   "cell_type": "code",
   "execution_count": null,
   "metadata": {
    "collapsed": true
   },
   "outputs": [],
   "source": []
  },
  {
   "cell_type": "code",
   "execution_count": null,
   "metadata": {
    "collapsed": true
   },
   "outputs": [],
   "source": []
  },
  {
   "cell_type": "code",
   "execution_count": null,
   "metadata": {
    "collapsed": true
   },
   "outputs": [],
   "source": []
  },
  {
   "cell_type": "code",
   "execution_count": null,
   "metadata": {
    "collapsed": true
   },
   "outputs": [],
   "source": []
  },
  {
   "cell_type": "code",
   "execution_count": null,
   "metadata": {
    "collapsed": true
   },
   "outputs": [],
   "source": []
  },
  {
   "cell_type": "code",
   "execution_count": null,
   "metadata": {
    "collapsed": true
   },
   "outputs": [],
   "source": []
  },
  {
   "cell_type": "code",
   "execution_count": null,
   "metadata": {
    "collapsed": true
   },
   "outputs": [],
   "source": []
  },
  {
   "cell_type": "code",
   "execution_count": null,
   "metadata": {
    "collapsed": true
   },
   "outputs": [],
   "source": []
  },
  {
   "cell_type": "code",
   "execution_count": null,
   "metadata": {
    "collapsed": true
   },
   "outputs": [],
   "source": []
  },
  {
   "cell_type": "code",
   "execution_count": null,
   "metadata": {
    "collapsed": true
   },
   "outputs": [],
   "source": []
  }
 ],
 "metadata": {
  "anaconda-cloud": {},
  "kernelspec": {
   "display_name": "Python [conda root]",
   "language": "python",
   "name": "conda-root-py"
  },
  "language_info": {
   "codemirror_mode": {
    "name": "ipython",
    "version": 3
   },
   "file_extension": ".py",
   "mimetype": "text/x-python",
   "name": "python",
   "nbconvert_exporter": "python",
   "pygments_lexer": "ipython3",
   "version": "3.5.2"
  }
 },
 "nbformat": 4,
 "nbformat_minor": 1
}
