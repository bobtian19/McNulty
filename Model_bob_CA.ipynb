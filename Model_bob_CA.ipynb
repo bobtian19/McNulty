{
 "cells": [
  {
   "cell_type": "code",
   "execution_count": 158,
   "metadata": {
    "collapsed": true
   },
   "outputs": [],
   "source": [
    "import pandas as pd\n",
    "import sqlalchemy as sq\n",
    "import numpy as np\n",
    "import matplotlib.pyplot as plt\n",
    "%matplotlib inline"
   ]
  },
  {
   "cell_type": "markdown",
   "metadata": {},
   "source": [
    "# Connect to database"
   ]
  },
  {
   "cell_type": "code",
   "execution_count": 7,
   "metadata": {
    "collapsed": false
   },
   "outputs": [],
   "source": [
    "engine = sq.create_engine('sqlite:///OKC_Processed_DB.db') #create connection to the database"
   ]
  },
  {
   "cell_type": "markdown",
   "metadata": {},
   "source": [
    "# Get tables"
   ]
  },
  {
   "cell_type": "code",
   "execution_count": 107,
   "metadata": {
    "collapsed": true
   },
   "outputs": [],
   "source": [
    "df_num = pd.read_sql_table('numerical_attributes',engine)\n",
    "df_rsp = pd.read_sql_table('question_responses',engine)\n",
    "df_att = pd.read_sql_table('attributes_preferences',engine)\n",
    "df_tst = pd.read_sql_table('test_responses',engine)\n",
    "df_key0 = pd.read_sql_table('questions_key',engine)\n",
    "df_key = df_key0[df_key0.loc[:,'N']>=31548]"
   ]
  },
  {
   "cell_type": "markdown",
   "metadata": {},
   "source": [
    "# Helper Functions"
   ]
  },
  {
   "cell_type": "markdown",
   "metadata": {},
   "source": [
    "This function takes a dataframe and a string, and returns a new dataframe with all columns with headers that begin with that string"
   ]
  },
  {
   "cell_type": "code",
   "execution_count": 12,
   "metadata": {
    "collapsed": false
   },
   "outputs": [
    {
     "data": {
      "text/html": [
       "<div>\n",
       "<table border=\"1\" class=\"dataframe\">\n",
       "  <thead>\n",
       "    <tr style=\"text-align: right;\">\n",
       "      <th></th>\n",
       "      <th>d_income</th>\n",
       "      <th>d_age</th>\n",
       "    </tr>\n",
       "  </thead>\n",
       "  <tbody>\n",
       "    <tr>\n",
       "      <th>68366</th>\n",
       "      <td>None</td>\n",
       "      <td>48</td>\n",
       "    </tr>\n",
       "    <tr>\n",
       "      <th>68367</th>\n",
       "      <td>None</td>\n",
       "      <td>32</td>\n",
       "    </tr>\n",
       "    <tr>\n",
       "      <th>68368</th>\n",
       "      <td>None</td>\n",
       "      <td>24</td>\n",
       "    </tr>\n",
       "    <tr>\n",
       "      <th>68369</th>\n",
       "      <td>None</td>\n",
       "      <td>33</td>\n",
       "    </tr>\n",
       "    <tr>\n",
       "      <th>68370</th>\n",
       "      <td>None</td>\n",
       "      <td>49</td>\n",
       "    </tr>\n",
       "  </tbody>\n",
       "</table>\n",
       "</div>"
      ],
      "text/plain": [
       "      d_income d_age\n",
       "68366     None    48\n",
       "68367     None    32\n",
       "68368     None    24\n",
       "68369     None    33\n",
       "68370     None    49"
      ]
     },
     "execution_count": 12,
     "metadata": {},
     "output_type": "execute_result"
    }
   ],
   "source": [
    "def get_columns(df,key):\n",
    "    headers_all = list(df.columns)\n",
    "    headers = [name for name in headers_all if name[0:len(key)]==key]\n",
    "    return df.loc[:,headers]\n",
    "#Example\n",
    "get_columns(df_num,'d_').tail()"
   ]
  },
  {
   "cell_type": "markdown",
   "metadata": {},
   "source": [
    "This function takes a question key table + a question key, and return the question associated with the key"
   ]
  },
  {
   "cell_type": "code",
   "execution_count": 18,
   "metadata": {
    "collapsed": false
   },
   "outputs": [
    {
     "data": {
      "text/html": [
       "<div>\n",
       "<table border=\"1\" class=\"dataframe\">\n",
       "  <thead>\n",
       "    <tr style=\"text-align: right;\">\n",
       "      <th></th>\n",
       "      <th>Unnamed: 0</th>\n",
       "      <th>text</th>\n",
       "      <th>option_1</th>\n",
       "      <th>option_2</th>\n",
       "      <th>option_3</th>\n",
       "      <th>option_4</th>\n",
       "      <th>N</th>\n",
       "      <th>Type</th>\n",
       "      <th>Order</th>\n",
       "      <th>Keywords</th>\n",
       "    </tr>\n",
       "  </thead>\n",
       "  <tbody>\n",
       "    <tr>\n",
       "      <th>2615</th>\n",
       "      <td>q145537</td>\n",
       "      <td>Are you into BDSM? are you a dom or sub</td>\n",
       "      <td>Yes! dom</td>\n",
       "      <td>No, its wierd.</td>\n",
       "      <td>maybe with the right person and comfort level</td>\n",
       "      <td>Yes! sub</td>\n",
       "      <td>148</td>\n",
       "      <td>O</td>\n",
       "      <td>2, 3, (1, 4)</td>\n",
       "      <td>sex/intimacy; BDSM</td>\n",
       "    </tr>\n",
       "  </tbody>\n",
       "</table>\n",
       "</div>"
      ],
      "text/plain": [
       "     Unnamed: 0                                     text  option_1  \\\n",
       "2615    q145537  Are you into BDSM? are you a dom or sub  Yes! dom   \n",
       "\n",
       "            option_2                                       option_3  option_4  \\\n",
       "2615  No, its wierd.  maybe with the right person and comfort level  Yes! sub   \n",
       "\n",
       "        N Type         Order            Keywords  \n",
       "2615  148    O  2, 3, (1, 4)  sex/intimacy; BDSM  "
      ]
     },
     "execution_count": 18,
     "metadata": {},
     "output_type": "execute_result"
    }
   ],
   "source": [
    "def get_question(df,key):\n",
    "    return df.loc[df.iloc[:,0]==key,:]\n",
    "#Example\n",
    "get_question(df_key,'q145537')"
   ]
  },
  {
   "cell_type": "markdown",
   "metadata": {},
   "source": [
    "This function takes a keyword and searches for questions that contain such keyword in the question text"
   ]
  },
  {
   "cell_type": "code",
   "execution_count": 62,
   "metadata": {
    "collapsed": false
   },
   "outputs": [
    {
     "data": {
      "text/html": [
       "<div>\n",
       "<table border=\"1\" class=\"dataframe\">\n",
       "  <thead>\n",
       "    <tr style=\"text-align: right;\">\n",
       "      <th></th>\n",
       "      <th>Unnamed: 0</th>\n",
       "      <th>text</th>\n",
       "      <th>option_1</th>\n",
       "      <th>option_2</th>\n",
       "      <th>option_3</th>\n",
       "      <th>option_4</th>\n",
       "      <th>N</th>\n",
       "      <th>Type</th>\n",
       "      <th>Order</th>\n",
       "      <th>Keywords</th>\n",
       "    </tr>\n",
       "  </thead>\n",
       "  <tbody>\n",
       "    <tr>\n",
       "      <th>1381</th>\n",
       "      <td>q227646</td>\n",
       "      <td>How do you describe yourself politically?</td>\n",
       "      <td>As a Republican</td>\n",
       "      <td>As a Democrat</td>\n",
       "      <td>As a an Independent/Something Else</td>\n",
       "      <td>None of these / I'm not American</td>\n",
       "      <td>12240</td>\n",
       "      <td>N</td>\n",
       "      <td>0</td>\n",
       "      <td>politics; descriptive</td>\n",
       "    </tr>\n",
       "    <tr>\n",
       "      <th>1429</th>\n",
       "      <td>q166</td>\n",
       "      <td>Politically, which way do you lean?</td>\n",
       "      <td>To the right (republican in the US)</td>\n",
       "      <td>To the left (democrat in the US)</td>\n",
       "      <td>To the middle / I don't know</td>\n",
       "      <td>0</td>\n",
       "      <td>11714</td>\n",
       "      <td>O</td>\n",
       "      <td>1, 3, 2</td>\n",
       "      <td>politics</td>\n",
       "    </tr>\n",
       "  </tbody>\n",
       "</table>\n",
       "</div>"
      ],
      "text/plain": [
       "     Unnamed: 0                                       text  \\\n",
       "1381    q227646  How do you describe yourself politically?   \n",
       "1429       q166        Politically, which way do you lean?   \n",
       "\n",
       "                                 option_1                          option_2  \\\n",
       "1381                      As a Republican                     As a Democrat   \n",
       "1429  To the right (republican in the US)  To the left (democrat in the US)   \n",
       "\n",
       "                                option_3                          option_4  \\\n",
       "1381  As a an Independent/Something Else  None of these / I'm not American   \n",
       "1429        To the middle / I don't know                                 0   \n",
       "\n",
       "          N Type    Order               Keywords  \n",
       "1381  12240    N        0  politics; descriptive  \n",
       "1429  11714    O  1, 3, 2               politics  "
      ]
     },
     "execution_count": 62,
     "metadata": {},
     "output_type": "execute_result"
    }
   ],
   "source": [
    "def search_questions(df,key):\n",
    "    indexlist = []\n",
    "    key = str.upper(key)\n",
    "    df.fillna(value=0,inplace=True)\n",
    "    for i in range(len(df_key.iloc[:,1])):\n",
    "        if key in str.upper(str(df_key.iloc[i,1])):\n",
    "            indexlist.append(i)\n",
    "        elif key in str.upper(str(df_key.iloc[i,2])):\n",
    "            indexlist.append(i)\n",
    "        elif key in str.upper(str(df_key.iloc[i,3])):\n",
    "            indexlist.append(i)\n",
    "        elif key in str.upper(str(df_key.iloc[i,4])):\n",
    "            indexlist.append(i)\n",
    "        elif key in str.upper(str(df_key.iloc[i,5])):\n",
    "            indexlist.append(i)\n",
    "        elif key in str.upper(str(df_key.iloc[i,6])):\n",
    "            indexlist.append(i)\n",
    "        elif key in str.upper(str(df_key.iloc[i,7])):\n",
    "            indexlist.append(i)\n",
    "        elif key in str.upper(str(df_key.iloc[i,8])):\n",
    "            indexlist.append(i)\n",
    "        elif key in str.upper(str(df_key.iloc[i,9])):\n",
    "            indexlist.append(i)\n",
    "    return df_key.iloc[indexlist,:]\n",
    "#Example\n",
    "search_questions(df_key,'democrat')"
   ]
  },
  {
   "cell_type": "markdown",
   "metadata": {},
   "source": [
    "# Modelling"
   ]
  },
  {
   "cell_type": "markdown",
   "metadata": {},
   "source": [
    "Make a giant-ass matrix with y as column1 and features as rest of the columns"
   ]
  },
  {
   "cell_type": "code",
   "execution_count": 208,
   "metadata": {
    "collapsed": false
   },
   "outputs": [],
   "source": [
    "df_all = pd.concat([pd.to_numeric(df_num.CA),df_rsp,df_att],axis=1)\n",
    "df_all = df_all[pd.notnull(df_all['CA'])]"
   ]
  },
  {
   "cell_type": "code",
   "execution_count": 209,
   "metadata": {
    "collapsed": false
   },
   "outputs": [
    {
     "data": {
      "text/html": [
       "<div>\n",
       "<table border=\"1\" class=\"dataframe\">\n",
       "  <thead>\n",
       "    <tr style=\"text-align: right;\">\n",
       "      <th></th>\n",
       "      <th>CA</th>\n",
       "      <th>q16053_Hesitant, but I'd certainly consider it.</th>\n",
       "      <th>q16053_I'm not interested in meeting in person.</th>\n",
       "      <th>q16053_Totally willing!</th>\n",
       "      <th>q501_No</th>\n",
       "      <th>q501_Yes</th>\n",
       "      <th>q9688_No</th>\n",
       "      <th>q9688_Yes</th>\n",
       "      <th>q9688_Yes, but only soft stuff like marijuana</th>\n",
       "      <th>q358077_No</th>\n",
       "      <th>...</th>\n",
       "      <th>d_job_Student</th>\n",
       "      <th>d_job_Technology</th>\n",
       "      <th>d_education_phase_Dropped out of</th>\n",
       "      <th>d_education_phase_Graduated from</th>\n",
       "      <th>d_education_phase_Working on</th>\n",
       "      <th>d_astrology_seriosity_and it's fun to think about</th>\n",
       "      <th>d_astrology_seriosity_but it doesn't matter</th>\n",
       "      <th>d_religion_seriosity_and laughing about it</th>\n",
       "      <th>d_religion_seriosity_and very serious about it</th>\n",
       "      <th>d_offspring_current_-</th>\n",
       "    </tr>\n",
       "  </thead>\n",
       "  <tbody>\n",
       "    <tr>\n",
       "      <th>0</th>\n",
       "      <td>0.571283</td>\n",
       "      <td>1</td>\n",
       "      <td>0</td>\n",
       "      <td>0</td>\n",
       "      <td>1</td>\n",
       "      <td>0</td>\n",
       "      <td>1</td>\n",
       "      <td>0</td>\n",
       "      <td>0</td>\n",
       "      <td>1</td>\n",
       "      <td>...</td>\n",
       "      <td>0.0</td>\n",
       "      <td>0.0</td>\n",
       "      <td>0.0</td>\n",
       "      <td>1.0</td>\n",
       "      <td>0.0</td>\n",
       "      <td>0.0</td>\n",
       "      <td>1.0</td>\n",
       "      <td>0.0</td>\n",
       "      <td>0.0</td>\n",
       "      <td>0.0</td>\n",
       "    </tr>\n",
       "    <tr>\n",
       "      <th>2</th>\n",
       "      <td>1.012264</td>\n",
       "      <td>0</td>\n",
       "      <td>0</td>\n",
       "      <td>1</td>\n",
       "      <td>0</td>\n",
       "      <td>1</td>\n",
       "      <td>0</td>\n",
       "      <td>1</td>\n",
       "      <td>0</td>\n",
       "      <td>0</td>\n",
       "      <td>...</td>\n",
       "      <td>0.0</td>\n",
       "      <td>0.0</td>\n",
       "      <td>0.0</td>\n",
       "      <td>0.0</td>\n",
       "      <td>0.0</td>\n",
       "      <td>0.0</td>\n",
       "      <td>0.0</td>\n",
       "      <td>0.0</td>\n",
       "      <td>0.0</td>\n",
       "      <td>0.0</td>\n",
       "    </tr>\n",
       "    <tr>\n",
       "      <th>4</th>\n",
       "      <td>0.418364</td>\n",
       "      <td>0</td>\n",
       "      <td>0</td>\n",
       "      <td>1</td>\n",
       "      <td>1</td>\n",
       "      <td>0</td>\n",
       "      <td>0</td>\n",
       "      <td>1</td>\n",
       "      <td>0</td>\n",
       "      <td>1</td>\n",
       "      <td>...</td>\n",
       "      <td>0.0</td>\n",
       "      <td>0.0</td>\n",
       "      <td>0.0</td>\n",
       "      <td>0.0</td>\n",
       "      <td>1.0</td>\n",
       "      <td>0.0</td>\n",
       "      <td>0.0</td>\n",
       "      <td>0.0</td>\n",
       "      <td>1.0</td>\n",
       "      <td>0.0</td>\n",
       "    </tr>\n",
       "    <tr>\n",
       "      <th>5</th>\n",
       "      <td>1.191211</td>\n",
       "      <td>0</td>\n",
       "      <td>0</td>\n",
       "      <td>1</td>\n",
       "      <td>1</td>\n",
       "      <td>0</td>\n",
       "      <td>0</td>\n",
       "      <td>1</td>\n",
       "      <td>0</td>\n",
       "      <td>0</td>\n",
       "      <td>...</td>\n",
       "      <td>0.0</td>\n",
       "      <td>0.0</td>\n",
       "      <td>1.0</td>\n",
       "      <td>0.0</td>\n",
       "      <td>0.0</td>\n",
       "      <td>0.0</td>\n",
       "      <td>1.0</td>\n",
       "      <td>0.0</td>\n",
       "      <td>0.0</td>\n",
       "      <td>0.0</td>\n",
       "    </tr>\n",
       "    <tr>\n",
       "      <th>6</th>\n",
       "      <td>0.418364</td>\n",
       "      <td>0</td>\n",
       "      <td>0</td>\n",
       "      <td>1</td>\n",
       "      <td>0</td>\n",
       "      <td>1</td>\n",
       "      <td>0</td>\n",
       "      <td>0</td>\n",
       "      <td>0</td>\n",
       "      <td>0</td>\n",
       "      <td>...</td>\n",
       "      <td>1.0</td>\n",
       "      <td>0.0</td>\n",
       "      <td>0.0</td>\n",
       "      <td>0.0</td>\n",
       "      <td>1.0</td>\n",
       "      <td>0.0</td>\n",
       "      <td>0.0</td>\n",
       "      <td>0.0</td>\n",
       "      <td>0.0</td>\n",
       "      <td>1.0</td>\n",
       "    </tr>\n",
       "  </tbody>\n",
       "</table>\n",
       "<p>5 rows × 662 columns</p>\n",
       "</div>"
      ],
      "text/plain": [
       "         CA  q16053_Hesitant, but I'd certainly consider it.  \\\n",
       "0  0.571283                                                1   \n",
       "2  1.012264                                                0   \n",
       "4  0.418364                                                0   \n",
       "5  1.191211                                                0   \n",
       "6  0.418364                                                0   \n",
       "\n",
       "   q16053_I'm not interested in meeting in person.  q16053_Totally willing!  \\\n",
       "0                                                0                        0   \n",
       "2                                                0                        1   \n",
       "4                                                0                        1   \n",
       "5                                                0                        1   \n",
       "6                                                0                        1   \n",
       "\n",
       "   q501_No  q501_Yes  q9688_No  q9688_Yes  \\\n",
       "0        1         0         1          0   \n",
       "2        0         1         0          1   \n",
       "4        1         0         0          1   \n",
       "5        1         0         0          1   \n",
       "6        0         1         0          0   \n",
       "\n",
       "   q9688_Yes, but only soft stuff like marijuana  q358077_No  \\\n",
       "0                                              0           1   \n",
       "2                                              0           0   \n",
       "4                                              0           1   \n",
       "5                                              0           0   \n",
       "6                                              0           0   \n",
       "\n",
       "           ...            d_job_Student  d_job_Technology  \\\n",
       "0          ...                      0.0               0.0   \n",
       "2          ...                      0.0               0.0   \n",
       "4          ...                      0.0               0.0   \n",
       "5          ...                      0.0               0.0   \n",
       "6          ...                      1.0               0.0   \n",
       "\n",
       "   d_education_phase_Dropped out of  d_education_phase_Graduated from  \\\n",
       "0                               0.0                               1.0   \n",
       "2                               0.0                               0.0   \n",
       "4                               0.0                               0.0   \n",
       "5                               1.0                               0.0   \n",
       "6                               0.0                               0.0   \n",
       "\n",
       "   d_education_phase_Working on  \\\n",
       "0                           0.0   \n",
       "2                           0.0   \n",
       "4                           1.0   \n",
       "5                           0.0   \n",
       "6                           1.0   \n",
       "\n",
       "   d_astrology_seriosity_and it's fun to think about  \\\n",
       "0                                                0.0   \n",
       "2                                                0.0   \n",
       "4                                                0.0   \n",
       "5                                                0.0   \n",
       "6                                                0.0   \n",
       "\n",
       "   d_astrology_seriosity_but it doesn't matter  \\\n",
       "0                                          1.0   \n",
       "2                                          0.0   \n",
       "4                                          0.0   \n",
       "5                                          1.0   \n",
       "6                                          0.0   \n",
       "\n",
       "   d_religion_seriosity_and laughing about it  \\\n",
       "0                                         0.0   \n",
       "2                                         0.0   \n",
       "4                                         0.0   \n",
       "5                                         0.0   \n",
       "6                                         0.0   \n",
       "\n",
       "   d_religion_seriosity_and very serious about it  d_offspring_current_-  \n",
       "0                                             0.0                    0.0  \n",
       "2                                             0.0                    0.0  \n",
       "4                                             1.0                    0.0  \n",
       "5                                             0.0                    0.0  \n",
       "6                                             0.0                    1.0  \n",
       "\n",
       "[5 rows x 662 columns]"
      ]
     },
     "execution_count": 209,
     "metadata": {},
     "output_type": "execute_result"
    }
   ],
   "source": [
    "df_all.head()"
   ]
  },
  {
   "cell_type": "code",
   "execution_count": 210,
   "metadata": {
    "collapsed": false
   },
   "outputs": [
    {
     "data": {
      "text/plain": [
       "(array([    34.,    316.,   2537.,   4076.,   8135.,   9871.,  12340.,\n",
       "         10481.,   7253.,   1555.]),\n",
       " array([-3.58702023, -3.0038059 , -2.42059157, -1.83737724, -1.25416291,\n",
       "        -0.67094858, -0.08773425,  0.49548008,  1.07869441,  1.66190874,\n",
       "         2.24512307]),\n",
       " <a list of 10 Patch objects>)"
      ]
     },
     "execution_count": 210,
     "metadata": {},
     "output_type": "execute_result"
    },
    {
     "data": {
      "image/png": "[encoded data removed]",
      "text/plain": [
       "<matplotlib.figure.Figure at 0x115bc7518>"
      ]
     },
     "metadata": {},
     "output_type": "display_data"
    }
   ],
   "source": [
    "plt.hist(df_all.CA)"
   ]
  },
  {
   "cell_type": "code",
   "execution_count": 212,
   "metadata": {
    "collapsed": false
   },
   "outputs": [],
   "source": [
    "bins = [-10, -1, 0, 1, 10]\n",
    "groups = ['supa dum', 'dum', 'smaht', 'supa smaht']\n",
    "y = pd.cut(df_all['CA'], bins, labels=groups)\n",
    "X = df_all.iloc[:,1:]\n"
   ]
  },
  {
   "cell_type": "code",
   "execution_count": null,
   "metadata": {
    "collapsed": true
   },
   "outputs": [],
   "source": []
  }
 ],
 "metadata": {
  "anaconda-cloud": {},
  "kernelspec": {
   "display_name": "Python [conda root]",
   "language": "python",
   "name": "conda-root-py"
  },
  "language_info": {
   "codemirror_mode": {
    "name": "ipython",
    "version": 3
   },
   "file_extension": ".py",
   "mimetype": "text/x-python",
   "name": "python",
   "nbconvert_exporter": "python",
   "pygments_lexer": "ipython3",
   "version": "3.5.2"
  }
 },
 "nbformat": 4,
 "nbformat_minor": 1
}
